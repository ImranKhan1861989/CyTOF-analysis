{
 "cells": [
  {
   "cell_type": "code",
   "execution_count": null,
   "id": "4265ccf3",
   "metadata": {},
   "outputs": [],
   "source": [
    "import FlowCal\n",
    "import pandas as pd\n",
    "import os\n",
    "\n",
    "# Define the directory containing the FCS files\n",
    "fcs_directory = 'path_to_your_fcs_files_directory'\n",
    "\n",
    "# Initialize an empty list to store DataFrames\n",
    "data_frames = []\n",
    "\n",
    "# Loop over each file in the directory\n",
    "for filename in os.listdir(fcs_directory):\n",
    "    if filename.endswith('.fcs'):\n",
    "        # Load the FCS file\n",
    "        data = FlowCal.io.FCSData(os.path.join(fcs_directory, filename))\n",
    "        # Convert to a pandas DataFrame\n",
    "        df = data.to_pandas()\n",
    "        # Add a column for the sample ID (optional)\n",
    "        df['SampleID'] = filename\n",
    "        # Append the DataFrame to the list\n",
    "        data_frames.append(df)\n",
    "\n",
    "# Concatenate all DataFrames into a single DataFrame\n",
    "combined_df = pd.concat(data_frames, ignore_index=True)\n",
    "\n",
    "# Save the combined DataFrame to a CSV file\n",
    "combined_df.to_csv('combined_cytof_data.csv', index=False)\n",
    "\n",
    "print(\"Combined CSV file saved successfully.\")"
   ]
  }
 ],
 "metadata": {
  "kernelspec": {
   "display_name": "Python 3 (ipykernel)",
   "language": "python",
   "name": "python3"
  },
  "language_info": {
   "codemirror_mode": {
    "name": "ipython",
    "version": 3
   },
   "file_extension": ".py",
   "mimetype": "text/x-python",
   "name": "python",
   "nbconvert_exporter": "python",
   "pygments_lexer": "ipython3",
   "version": "3.11.7"
  }
 },
 "nbformat": 4,
 "nbformat_minor": 5
}
